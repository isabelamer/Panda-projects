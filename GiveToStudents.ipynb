{
 "cells": [
  {
   "cell_type": "markdown",
   "id": "e4da4fb4",
   "metadata": {},
   "source": [
    "# This file contains some examples for the students to try"
   ]
  },
  {
   "cell_type": "markdown",
   "id": "7dca14d5",
   "metadata": {},
   "source": [
    "## Handling Tables and Files"
   ]
  },
  {
   "cell_type": "markdown",
   "id": "4266a2fd",
   "metadata": {},
   "source": [
    "### Import the PANDAS module"
   ]
  },
  {
   "cell_type": "code",
   "execution_count": 2,
   "id": "66a5bd0e",
   "metadata": {},
   "outputs": [],
   "source": [
    "import pandas as pd"
   ]
  },
  {
   "cell_type": "markdown",
   "id": "90efe14c",
   "metadata": {},
   "source": [
    "### Use the Pandas module to read a text file into a dataframe"
   ]
  },
  {
   "cell_type": "code",
   "execution_count": 3,
   "id": "1c66580a",
   "metadata": {},
   "outputs": [],
   "source": [
    "my_dataframe = pd.read_csv(\"grades.csv\", sep = \"\\t\")"
   ]
  },
  {
   "cell_type": "code",
   "execution_count": 4,
   "id": "de75c4a2",
   "metadata": {},
   "outputs": [
    {
     "data": {
      "text/html": [
       "<div>\n",
       "<style scoped>\n",
       "    .dataframe tbody tr th:only-of-type {\n",
       "        vertical-align: middle;\n",
       "    }\n",
       "\n",
       "    .dataframe tbody tr th {\n",
       "        vertical-align: top;\n",
       "    }\n",
       "\n",
       "    .dataframe thead th {\n",
       "        text-align: right;\n",
       "    }\n",
       "</style>\n",
       "<table border=\"1\" class=\"dataframe\">\n",
       "  <thead>\n",
       "    <tr style=\"text-align: right;\">\n",
       "      <th></th>\n",
       "      <th>stdNo</th>\n",
       "      <th>stdName</th>\n",
       "      <th>BirthDate</th>\n",
       "      <th>email</th>\n",
       "      <th>Test 1</th>\n",
       "      <th>Test 2</th>\n",
       "      <th>Lab 1</th>\n",
       "      <th>Lab 2</th>\n",
       "      <th>Lab 3</th>\n",
       "      <th>Lab 4</th>\n",
       "    </tr>\n",
       "  </thead>\n",
       "  <tbody>\n",
       "    <tr>\n",
       "      <th>0</th>\n",
       "      <td>701</td>\n",
       "      <td>Rosa C. Olsen</td>\n",
       "      <td>07/06/1996</td>\n",
       "      <td>l0701@aln.iseg.ulisboa.pt</td>\n",
       "      <td>16.8</td>\n",
       "      <td>9.2</td>\n",
       "      <td>12.6</td>\n",
       "      <td>10.6</td>\n",
       "      <td>13.7</td>\n",
       "      <td>9.2</td>\n",
       "    </tr>\n",
       "    <tr>\n",
       "      <th>1</th>\n",
       "      <td>798</td>\n",
       "      <td>Clarence Sheridan</td>\n",
       "      <td>03/01/1996</td>\n",
       "      <td>l0798@aln.iseg.ulisboa.pt</td>\n",
       "      <td>15.8</td>\n",
       "      <td>15.8</td>\n",
       "      <td>18.9</td>\n",
       "      <td>19.6</td>\n",
       "      <td>14.2</td>\n",
       "      <td>4.3</td>\n",
       "    </tr>\n",
       "    <tr>\n",
       "      <th>2</th>\n",
       "      <td>854</td>\n",
       "      <td>Jaclyn T. Glover</td>\n",
       "      <td>20/09/1995</td>\n",
       "      <td>l0854@aln.iseg.ulisboa.pt</td>\n",
       "      <td>11.2</td>\n",
       "      <td>8.5</td>\n",
       "      <td>9.1</td>\n",
       "      <td>16.8</td>\n",
       "      <td>13.0</td>\n",
       "      <td>19.6</td>\n",
       "    </tr>\n",
       "    <tr>\n",
       "      <th>3</th>\n",
       "      <td>663</td>\n",
       "      <td>Catherine U. Buggs</td>\n",
       "      <td>09/12/1995</td>\n",
       "      <td>l0663@aln.iseg.ulisboa.pt</td>\n",
       "      <td>15.0</td>\n",
       "      <td>6.8</td>\n",
       "      <td>5.4</td>\n",
       "      <td>8.2</td>\n",
       "      <td>6.2</td>\n",
       "      <td>4.4</td>\n",
       "    </tr>\n",
       "    <tr>\n",
       "      <th>4</th>\n",
       "      <td>921</td>\n",
       "      <td>James E. Watkins</td>\n",
       "      <td>08/08/1999</td>\n",
       "      <td>l0921@aln.iseg.ulisboa.pt</td>\n",
       "      <td>11.0</td>\n",
       "      <td>8.0</td>\n",
       "      <td>16.9</td>\n",
       "      <td>5.4</td>\n",
       "      <td>14.9</td>\n",
       "      <td>5.1</td>\n",
       "    </tr>\n",
       "  </tbody>\n",
       "</table>\n",
       "</div>"
      ],
      "text/plain": [
       "   stdNo             stdName   BirthDate                      email  Test 1  \\\n",
       "0    701       Rosa C. Olsen  07/06/1996  l0701@aln.iseg.ulisboa.pt    16.8   \n",
       "1    798   Clarence Sheridan  03/01/1996  l0798@aln.iseg.ulisboa.pt    15.8   \n",
       "2    854    Jaclyn T. Glover  20/09/1995  l0854@aln.iseg.ulisboa.pt    11.2   \n",
       "3    663  Catherine U. Buggs  09/12/1995  l0663@aln.iseg.ulisboa.pt    15.0   \n",
       "4    921    James E. Watkins  08/08/1999  l0921@aln.iseg.ulisboa.pt    11.0   \n",
       "\n",
       "   Test 2  Lab 1  Lab 2  Lab 3  Lab 4  \n",
       "0     9.2   12.6   10.6   13.7    9.2  \n",
       "1    15.8   18.9   19.6   14.2    4.3  \n",
       "2     8.5    9.1   16.8   13.0   19.6  \n",
       "3     6.8    5.4    8.2    6.2    4.4  \n",
       "4     8.0   16.9    5.4   14.9    5.1  "
      ]
     },
     "execution_count": 4,
     "metadata": {},
     "output_type": "execute_result"
    }
   ],
   "source": [
    "my_dataframe.head()"
   ]
  },
  {
   "cell_type": "code",
   "execution_count": 5,
   "id": "315b1e3e",
   "metadata": {},
   "outputs": [
    {
     "name": "stdout",
     "output_type": "stream",
     "text": [
      "Catherine U. Buggs\n",
      "Catherine U. Buggs\n"
     ]
    }
   ],
   "source": [
    "print(my_dataframe.loc[3][1])\n",
    "print(my_dataframe.iloc[3,1])"
   ]
  },
  {
   "cell_type": "code",
   "execution_count": 6,
   "id": "eca6b646",
   "metadata": {},
   "outputs": [
    {
     "data": {
      "text/plain": [
       "3      Catherine U. Buggs\n",
       "4        James E. Watkins\n",
       "5          Babara T. Best\n",
       "6    Carlton L. Dickerson\n",
       "Name: stdName, dtype: object"
      ]
     },
     "execution_count": 6,
     "metadata": {},
     "output_type": "execute_result"
    }
   ],
   "source": [
    "my_dataframe.loc[3:6]['stdName']"
   ]
  },
  {
   "cell_type": "code",
   "execution_count": 7,
   "id": "f990efaf",
   "metadata": {},
   "outputs": [
    {
     "data": {
      "text/html": [
       "<div>\n",
       "<style scoped>\n",
       "    .dataframe tbody tr th:only-of-type {\n",
       "        vertical-align: middle;\n",
       "    }\n",
       "\n",
       "    .dataframe tbody tr th {\n",
       "        vertical-align: top;\n",
       "    }\n",
       "\n",
       "    .dataframe thead th {\n",
       "        text-align: right;\n",
       "    }\n",
       "</style>\n",
       "<table border=\"1\" class=\"dataframe\">\n",
       "  <thead>\n",
       "    <tr style=\"text-align: right;\">\n",
       "      <th></th>\n",
       "      <th>stdName</th>\n",
       "      <th>BirthDate</th>\n",
       "      <th>email</th>\n",
       "    </tr>\n",
       "  </thead>\n",
       "  <tbody>\n",
       "    <tr>\n",
       "      <th>3</th>\n",
       "      <td>Catherine U. Buggs</td>\n",
       "      <td>09/12/1995</td>\n",
       "      <td>l0663@aln.iseg.ulisboa.pt</td>\n",
       "    </tr>\n",
       "    <tr>\n",
       "      <th>4</th>\n",
       "      <td>James E. Watkins</td>\n",
       "      <td>08/08/1999</td>\n",
       "      <td>l0921@aln.iseg.ulisboa.pt</td>\n",
       "    </tr>\n",
       "    <tr>\n",
       "      <th>5</th>\n",
       "      <td>Babara T. Best</td>\n",
       "      <td>09/04/1998</td>\n",
       "      <td>l0890@aln.iseg.ulisboa.pt</td>\n",
       "    </tr>\n",
       "  </tbody>\n",
       "</table>\n",
       "</div>"
      ],
      "text/plain": [
       "              stdName   BirthDate                      email\n",
       "3  Catherine U. Buggs  09/12/1995  l0663@aln.iseg.ulisboa.pt\n",
       "4    James E. Watkins  08/08/1999  l0921@aln.iseg.ulisboa.pt\n",
       "5      Babara T. Best  09/04/1998  l0890@aln.iseg.ulisboa.pt"
      ]
     },
     "execution_count": 7,
     "metadata": {},
     "output_type": "execute_result"
    }
   ],
   "source": [
    "my_dataframe.iloc[3:6 , 1:4]"
   ]
  },
  {
   "cell_type": "code",
   "execution_count": 8,
   "id": "9ddc1fba",
   "metadata": {},
   "outputs": [
    {
     "data": {
      "text/plain": [
       "11.2"
      ]
     },
     "execution_count": 8,
     "metadata": {},
     "output_type": "execute_result"
    }
   ],
   "source": [
    "my_dataframe.iat[2,4]"
   ]
  },
  {
   "cell_type": "markdown",
   "id": "571c5249",
   "metadata": {},
   "source": [
    "#### Add a column to a dataframe"
   ]
  },
  {
   "cell_type": "code",
   "execution_count": 9,
   "id": "ab35f1bf",
   "metadata": {},
   "outputs": [],
   "source": [
    "my_dataframe['FinalGrade'] = 0.0"
   ]
  },
  {
   "cell_type": "code",
   "execution_count": 10,
   "id": "1cf2b927",
   "metadata": {},
   "outputs": [
    {
     "data": {
      "text/html": [
       "<div>\n",
       "<style scoped>\n",
       "    .dataframe tbody tr th:only-of-type {\n",
       "        vertical-align: middle;\n",
       "    }\n",
       "\n",
       "    .dataframe tbody tr th {\n",
       "        vertical-align: top;\n",
       "    }\n",
       "\n",
       "    .dataframe thead th {\n",
       "        text-align: right;\n",
       "    }\n",
       "</style>\n",
       "<table border=\"1\" class=\"dataframe\">\n",
       "  <thead>\n",
       "    <tr style=\"text-align: right;\">\n",
       "      <th></th>\n",
       "      <th>stdNo</th>\n",
       "      <th>stdName</th>\n",
       "      <th>BirthDate</th>\n",
       "      <th>email</th>\n",
       "      <th>Test 1</th>\n",
       "      <th>Test 2</th>\n",
       "      <th>Lab 1</th>\n",
       "      <th>Lab 2</th>\n",
       "      <th>Lab 3</th>\n",
       "      <th>Lab 4</th>\n",
       "      <th>FinalGrade</th>\n",
       "    </tr>\n",
       "  </thead>\n",
       "  <tbody>\n",
       "    <tr>\n",
       "      <th>0</th>\n",
       "      <td>701</td>\n",
       "      <td>Rosa C. Olsen</td>\n",
       "      <td>07/06/1996</td>\n",
       "      <td>l0701@aln.iseg.ulisboa.pt</td>\n",
       "      <td>16.8</td>\n",
       "      <td>9.2</td>\n",
       "      <td>12.6</td>\n",
       "      <td>10.6</td>\n",
       "      <td>13.7</td>\n",
       "      <td>9.2</td>\n",
       "      <td>0.0</td>\n",
       "    </tr>\n",
       "    <tr>\n",
       "      <th>1</th>\n",
       "      <td>798</td>\n",
       "      <td>Clarence Sheridan</td>\n",
       "      <td>03/01/1996</td>\n",
       "      <td>l0798@aln.iseg.ulisboa.pt</td>\n",
       "      <td>15.8</td>\n",
       "      <td>15.8</td>\n",
       "      <td>18.9</td>\n",
       "      <td>19.6</td>\n",
       "      <td>14.2</td>\n",
       "      <td>4.3</td>\n",
       "      <td>0.0</td>\n",
       "    </tr>\n",
       "    <tr>\n",
       "      <th>2</th>\n",
       "      <td>854</td>\n",
       "      <td>Jaclyn T. Glover</td>\n",
       "      <td>20/09/1995</td>\n",
       "      <td>l0854@aln.iseg.ulisboa.pt</td>\n",
       "      <td>11.2</td>\n",
       "      <td>8.5</td>\n",
       "      <td>9.1</td>\n",
       "      <td>16.8</td>\n",
       "      <td>13.0</td>\n",
       "      <td>19.6</td>\n",
       "      <td>0.0</td>\n",
       "    </tr>\n",
       "    <tr>\n",
       "      <th>3</th>\n",
       "      <td>663</td>\n",
       "      <td>Catherine U. Buggs</td>\n",
       "      <td>09/12/1995</td>\n",
       "      <td>l0663@aln.iseg.ulisboa.pt</td>\n",
       "      <td>15.0</td>\n",
       "      <td>6.8</td>\n",
       "      <td>5.4</td>\n",
       "      <td>8.2</td>\n",
       "      <td>6.2</td>\n",
       "      <td>4.4</td>\n",
       "      <td>0.0</td>\n",
       "    </tr>\n",
       "    <tr>\n",
       "      <th>4</th>\n",
       "      <td>921</td>\n",
       "      <td>James E. Watkins</td>\n",
       "      <td>08/08/1999</td>\n",
       "      <td>l0921@aln.iseg.ulisboa.pt</td>\n",
       "      <td>11.0</td>\n",
       "      <td>8.0</td>\n",
       "      <td>16.9</td>\n",
       "      <td>5.4</td>\n",
       "      <td>14.9</td>\n",
       "      <td>5.1</td>\n",
       "      <td>0.0</td>\n",
       "    </tr>\n",
       "  </tbody>\n",
       "</table>\n",
       "</div>"
      ],
      "text/plain": [
       "   stdNo             stdName   BirthDate                      email  Test 1  \\\n",
       "0    701       Rosa C. Olsen  07/06/1996  l0701@aln.iseg.ulisboa.pt    16.8   \n",
       "1    798   Clarence Sheridan  03/01/1996  l0798@aln.iseg.ulisboa.pt    15.8   \n",
       "2    854    Jaclyn T. Glover  20/09/1995  l0854@aln.iseg.ulisboa.pt    11.2   \n",
       "3    663  Catherine U. Buggs  09/12/1995  l0663@aln.iseg.ulisboa.pt    15.0   \n",
       "4    921    James E. Watkins  08/08/1999  l0921@aln.iseg.ulisboa.pt    11.0   \n",
       "\n",
       "   Test 2  Lab 1  Lab 2  Lab 3  Lab 4  FinalGrade  \n",
       "0     9.2   12.6   10.6   13.7    9.2         0.0  \n",
       "1    15.8   18.9   19.6   14.2    4.3         0.0  \n",
       "2     8.5    9.1   16.8   13.0   19.6         0.0  \n",
       "3     6.8    5.4    8.2    6.2    4.4         0.0  \n",
       "4     8.0   16.9    5.4   14.9    5.1         0.0  "
      ]
     },
     "execution_count": 10,
     "metadata": {},
     "output_type": "execute_result"
    }
   ],
   "source": [
    "my_dataframe.head()"
   ]
  },
  {
   "cell_type": "markdown",
   "id": "1105ccb0",
   "metadata": {},
   "source": [
    "\n",
    "#### Go through all the rows and update the Final Grade"
   ]
  },
  {
   "cell_type": "markdown",
   "id": "468fc950",
   "metadata": {},
   "source": [
    "##### First calculate the length of the dataframe (i.e., the number of rows):"
   ]
  },
  {
   "cell_type": "code",
   "execution_count": 11,
   "id": "fafd43db",
   "metadata": {},
   "outputs": [
    {
     "name": "stdout",
     "output_type": "stream",
     "text": [
      "16\n"
     ]
    }
   ],
   "source": [
    "l = len(my_dataframe)\n",
    "print(l)"
   ]
  },
  {
   "cell_type": "markdown",
   "id": "b9a8ef1d",
   "metadata": {},
   "source": [
    "##### In a cycle from row 0 to the last row (numbered l-1) update each value in the column FinalGrade (column number 10) calculate the final grade and update the cell"
   ]
  },
  {
   "cell_type": "code",
   "execution_count": 12,
   "id": "1703a255",
   "metadata": {},
   "outputs": [],
   "source": [
    "for i in range(0, l):\n",
    "    my_dataframe.iat[i, 10] = round(sum(my_dataframe.loc[i][4:10]) / 6, 1)"
   ]
  },
  {
   "cell_type": "code",
   "execution_count": 13,
   "id": "5b1d95c6",
   "metadata": {},
   "outputs": [
    {
     "data": {
      "text/html": [
       "<div>\n",
       "<style scoped>\n",
       "    .dataframe tbody tr th:only-of-type {\n",
       "        vertical-align: middle;\n",
       "    }\n",
       "\n",
       "    .dataframe tbody tr th {\n",
       "        vertical-align: top;\n",
       "    }\n",
       "\n",
       "    .dataframe thead th {\n",
       "        text-align: right;\n",
       "    }\n",
       "</style>\n",
       "<table border=\"1\" class=\"dataframe\">\n",
       "  <thead>\n",
       "    <tr style=\"text-align: right;\">\n",
       "      <th></th>\n",
       "      <th>stdNo</th>\n",
       "      <th>stdName</th>\n",
       "      <th>BirthDate</th>\n",
       "      <th>email</th>\n",
       "      <th>Test 1</th>\n",
       "      <th>Test 2</th>\n",
       "      <th>Lab 1</th>\n",
       "      <th>Lab 2</th>\n",
       "      <th>Lab 3</th>\n",
       "      <th>Lab 4</th>\n",
       "      <th>FinalGrade</th>\n",
       "    </tr>\n",
       "  </thead>\n",
       "  <tbody>\n",
       "    <tr>\n",
       "      <th>0</th>\n",
       "      <td>701</td>\n",
       "      <td>Rosa C. Olsen</td>\n",
       "      <td>07/06/1996</td>\n",
       "      <td>l0701@aln.iseg.ulisboa.pt</td>\n",
       "      <td>16.8</td>\n",
       "      <td>9.2</td>\n",
       "      <td>12.6</td>\n",
       "      <td>10.6</td>\n",
       "      <td>13.7</td>\n",
       "      <td>9.2</td>\n",
       "      <td>12.0</td>\n",
       "    </tr>\n",
       "    <tr>\n",
       "      <th>1</th>\n",
       "      <td>798</td>\n",
       "      <td>Clarence Sheridan</td>\n",
       "      <td>03/01/1996</td>\n",
       "      <td>l0798@aln.iseg.ulisboa.pt</td>\n",
       "      <td>15.8</td>\n",
       "      <td>15.8</td>\n",
       "      <td>18.9</td>\n",
       "      <td>19.6</td>\n",
       "      <td>14.2</td>\n",
       "      <td>4.3</td>\n",
       "      <td>14.8</td>\n",
       "    </tr>\n",
       "    <tr>\n",
       "      <th>2</th>\n",
       "      <td>854</td>\n",
       "      <td>Jaclyn T. Glover</td>\n",
       "      <td>20/09/1995</td>\n",
       "      <td>l0854@aln.iseg.ulisboa.pt</td>\n",
       "      <td>11.2</td>\n",
       "      <td>8.5</td>\n",
       "      <td>9.1</td>\n",
       "      <td>16.8</td>\n",
       "      <td>13.0</td>\n",
       "      <td>19.6</td>\n",
       "      <td>13.0</td>\n",
       "    </tr>\n",
       "    <tr>\n",
       "      <th>3</th>\n",
       "      <td>663</td>\n",
       "      <td>Catherine U. Buggs</td>\n",
       "      <td>09/12/1995</td>\n",
       "      <td>l0663@aln.iseg.ulisboa.pt</td>\n",
       "      <td>15.0</td>\n",
       "      <td>6.8</td>\n",
       "      <td>5.4</td>\n",
       "      <td>8.2</td>\n",
       "      <td>6.2</td>\n",
       "      <td>4.4</td>\n",
       "      <td>7.7</td>\n",
       "    </tr>\n",
       "    <tr>\n",
       "      <th>4</th>\n",
       "      <td>921</td>\n",
       "      <td>James E. Watkins</td>\n",
       "      <td>08/08/1999</td>\n",
       "      <td>l0921@aln.iseg.ulisboa.pt</td>\n",
       "      <td>11.0</td>\n",
       "      <td>8.0</td>\n",
       "      <td>16.9</td>\n",
       "      <td>5.4</td>\n",
       "      <td>14.9</td>\n",
       "      <td>5.1</td>\n",
       "      <td>10.2</td>\n",
       "    </tr>\n",
       "  </tbody>\n",
       "</table>\n",
       "</div>"
      ],
      "text/plain": [
       "   stdNo             stdName   BirthDate                      email  Test 1  \\\n",
       "0    701       Rosa C. Olsen  07/06/1996  l0701@aln.iseg.ulisboa.pt    16.8   \n",
       "1    798   Clarence Sheridan  03/01/1996  l0798@aln.iseg.ulisboa.pt    15.8   \n",
       "2    854    Jaclyn T. Glover  20/09/1995  l0854@aln.iseg.ulisboa.pt    11.2   \n",
       "3    663  Catherine U. Buggs  09/12/1995  l0663@aln.iseg.ulisboa.pt    15.0   \n",
       "4    921    James E. Watkins  08/08/1999  l0921@aln.iseg.ulisboa.pt    11.0   \n",
       "\n",
       "   Test 2  Lab 1  Lab 2  Lab 3  Lab 4  FinalGrade  \n",
       "0     9.2   12.6   10.6   13.7    9.2        12.0  \n",
       "1    15.8   18.9   19.6   14.2    4.3        14.8  \n",
       "2     8.5    9.1   16.8   13.0   19.6        13.0  \n",
       "3     6.8    5.4    8.2    6.2    4.4         7.7  \n",
       "4     8.0   16.9    5.4   14.9    5.1        10.2  "
      ]
     },
     "execution_count": 13,
     "metadata": {},
     "output_type": "execute_result"
    }
   ],
   "source": [
    "my_dataframe.head()"
   ]
  },
  {
   "cell_type": "markdown",
   "id": "4039caf1",
   "metadata": {},
   "source": [
    "### Write the Dataframe to a new Excel File"
   ]
  },
  {
   "cell_type": "code",
   "execution_count": 14,
   "id": "bb032108",
   "metadata": {},
   "outputs": [],
   "source": [
    "my_writer = pd.ExcelWriter('MyNewExcelFile.xlsx', engine = 'xlsxwriter')\n",
    "my_dataframe.to_excel(my_writer, sheet_name = 'Grades', index = False)\n",
    "my_writer.close()"
   ]
  },
  {
   "cell_type": "code",
   "execution_count": null,
   "id": "1aba5709",
   "metadata": {},
   "outputs": [],
   "source": []
  }
 ],
 "metadata": {
  "kernelspec": {
   "display_name": "Python 3",
   "language": "python",
   "name": "python3"
  },
  "language_info": {
   "codemirror_mode": {
    "name": "ipython",
    "version": 3
   },
   "file_extension": ".py",
   "mimetype": "text/x-python",
   "name": "python",
   "nbconvert_exporter": "python",
   "pygments_lexer": "ipython3",
   "version": "3.11.1"
  },
  "vscode": {
   "interpreter": {
    "hash": "aee8b7b246df8f9039afb4144a1f6fd8d2ca17a180786b69acc140d282b71a49"
   }
  }
 },
 "nbformat": 4,
 "nbformat_minor": 5
}
