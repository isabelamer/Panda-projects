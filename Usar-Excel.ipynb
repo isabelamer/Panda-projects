{
 "cells": [
  {
   "cell_type": "markdown",
   "metadata": {},
   "source": [
    "# Tratamento de dados com Excel e Pandas"
   ]
  },
  {
   "cell_type": "code",
   "execution_count": null,
   "metadata": {},
   "outputs": [],
   "source": [
    "#Importação do modulo Pandas, podemos dar-lhe um nome mais pequenom ex. \"pd\"\n",
    "import pandas as pd"
   ]
  },
  {
   "cell_type": "markdown",
   "metadata": {},
   "source": [
    "### Ler um Excel para um dataframe."
   ]
  },
  {
   "cell_type": "code",
   "execution_count": null,
   "metadata": {},
   "outputs": [],
   "source": [
    "# A sheet \"Notas\" contém a tabela de notas. Cria um dataframe chamado \"df_notas\"\n",
    "df_notas = pd.read_excel('Notas-Para-Calcular.xlsx', sheet_name='Notas', engine='openpyxl')"
   ]
  },
  {
   "cell_type": "code",
   "execution_count": null,
   "metadata": {},
   "outputs": [],
   "source": [
    "# A sheet \"pesos\" contém os pesos. Cria um dataframe chamado \"df_pesos\"\n",
    "df_pesos = pd.read_excel('Notas-Para-Calcular.xlsx', sheet_name='Pesos', engine='openpyxl')"
   ]
  },
  {
   "cell_type": "code",
   "execution_count": null,
   "metadata": {},
   "outputs": [],
   "source": [
    "# Ler as primeiras linhas de um dataframe\n",
    "df_notas.head()"
   ]
  },
  {
   "cell_type": "code",
   "execution_count": null,
   "metadata": {},
   "outputs": [],
   "source": [
    "df_pesos.head()"
   ]
  },
  {
   "cell_type": "markdown",
   "metadata": {},
   "source": [
    "### Diferentes formas de aceder a células de um dataframe. O dataframe começa na linha 0 e coluna 0"
   ]
  },
  {
   "cell_type": "code",
   "execution_count": null,
   "metadata": {},
   "outputs": [],
   "source": [
    "# Célula da linha 10 na coluna com o título \"nome\"\n",
    "df_notas.loc[10,'nome']"
   ]
  },
  {
   "cell_type": "code",
   "execution_count": null,
   "metadata": {},
   "outputs": [],
   "source": [
    "# Célula da linha 10 na coluna com número 1\n",
    "df_notas.iloc[10,1]"
   ]
  },
  {
   "cell_type": "code",
   "execution_count": null,
   "metadata": {},
   "outputs": [],
   "source": [
    "# Célula da linha 10 na coluna com número 1 (outra forma de aceder)\n",
    "df_notas.iat[10,1]"
   ]
  },
  {
   "cell_type": "markdown",
   "metadata": {},
   "source": [
    "### O acesso com \"loc\" pode ser feito para ranges de células ou colunas."
   ]
  },
  {
   "cell_type": "code",
   "execution_count": null,
   "metadata": {},
   "outputs": [],
   "source": [
    "df_notas.loc[0:5]['nome']"
   ]
  },
  {
   "cell_type": "code",
   "execution_count": null,
   "metadata": {},
   "outputs": [],
   "source": [
    "df_notas.iloc[0:3,4:9]  #iloc weorks with [lines, colomns]"
   ]
  },
  {
   "cell_type": "markdown",
   "metadata": {},
   "source": [
    "## Cálculo da nota final de cada aluno, com base nas notas parciais e nos pesos"
   ]
  },
  {
   "cell_type": "markdown",
   "metadata": {},
   "source": [
    "### Criar uma funcção que multiplica duas listas e devolve a soma dos valores"
   ]
  },
  {
   "cell_type": "code",
   "execution_count": null,
   "metadata": {},
   "outputs": [],
   "source": [
    "def sumproduct(l1, l2):\n",
    "    if not (isinstance(l1, list) and isinstance(l2, list)):\n",
    "        return('Only works with lists')\n",
    "    if len(l1) != len(l2):\n",
    "        return('Lists not the same size')\n",
    "    s = 0\n",
    "    for i in range(len(l1)):\n",
    "        s += l1[i]*l2[i]\n",
    "    return s"
   ]
  },
  {
   "cell_type": "markdown",
   "metadata": {},
   "source": [
    "Criar uma lista com os pesos.\n",
    "Depois correr um ciclo da linha 0 até à última linha.\n",
    "Em cada linha, cria uma lista com as notas e calcula a nota final pela multiplicação (usando a função sumproduct) das duas listas.\n",
    "A nota final está na coluna 10 (11ª coluna).\n",
    "As notas parciais estão nas colunas 4 até 9 (não esquecer que o range [4:10] corresponde às colunas da 4 até à 9"
   ]
  },
  {
   "cell_type": "code",
   "execution_count": null,
   "metadata": {},
   "outputs": [],
   "source": [
    "l1 = list(df_pesos.iloc[0])\n",
    "for index in range(len(df_notas)):\n",
    "    l2 = list(df_notas.iloc[index,4:10])\n",
    "    df_notas.iat[index,10] = sumproduct(l1, l2)"
   ]
  },
  {
   "cell_type": "code",
   "execution_count": null,
   "metadata": {},
   "outputs": [],
   "source": [
    "# Criar um container para escrever um novo ficheiro Excel com as notas calculadas\n",
    "# writer = pd.ExcelWriter('Notas_Calculadas.xlsx', engine='xlsxwriter')\n",
    "writer = pd.ExcelWriter('Notas-Calculadas.xlsx', engine='openpyxl')"
   ]
  },
  {
   "cell_type": "code",
   "execution_count": null,
   "metadata": {},
   "outputs": [],
   "source": [
    "# Escrever o dataframe df_notas para o container chamado \"writer\" com uma nova wheet \"Notas-Finais\"\n",
    "df_notas.to_excel(writer, sheet_name= 'Notas-Finais', index=False)"
   ]
  },
  {
   "cell_type": "code",
   "execution_count": null,
   "metadata": {},
   "outputs": [],
   "source": [
    "# Salvar o ficheiro Excel\n",
    "# writer.save()  Se usar o engine \"xlsxwriter\" então devo fazer SAVE em vez de CLOSE. Se usar o Openpyxl usar apenas CLOSE\n",
    "writer.close()"
   ]
  }
 ],
 "metadata": {
  "kernelspec": {
   "display_name": "base",
   "language": "python",
   "name": "python3"
  },
  "language_info": {
   "codemirror_mode": {
    "name": "ipython",
    "version": 3
   },
   "file_extension": ".py",
   "mimetype": "text/x-python",
   "name": "python",
   "nbconvert_exporter": "python",
   "pygments_lexer": "ipython3",
   "version": "3.9.12"
  },
  "vscode": {
   "interpreter": {
    "hash": "071c14cf3ccc56fdc8da237afa684ac3760181327e018bbd3514431b972f49b4"
   }
  }
 },
 "nbformat": 4,
 "nbformat_minor": 4
}
